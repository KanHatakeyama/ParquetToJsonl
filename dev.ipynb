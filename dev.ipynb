{
 "cells": [
  {
   "cell_type": "code",
   "execution_count": 21,
   "metadata": {},
   "outputs": [],
   "source": [
    "from src.repeated_phrase import is_repetitive_japanese\n",
    "import pandas as pd\n",
    "import json"
   ]
  },
  {
   "cell_type": "code",
   "execution_count": 17,
   "metadata": {},
   "outputs": [
    {
     "name": "stdout",
     "output_type": "stream",
     "text": [
      "The autoreload extension is already loaded. To reload it, use:\n",
      "  %reload_ext autoreload\n"
     ]
    }
   ],
   "source": [
    "%load_ext autoreload\n",
    "%autoreload 2\n",
    "from src.clean_utils import clean_text_list\n",
    "import os"
   ]
  },
  {
   "cell_type": "code",
   "execution_count": 19,
   "metadata": {},
   "outputs": [
    {
     "data": {
      "text/plain": [
       "0"
      ]
     },
     "execution_count": 19,
     "metadata": {},
     "output_type": "execute_result"
    }
   ],
   "source": [
    "n_records_per_text=100 # for debug, set small number\n",
    "max_records_per_jsol=50\n",
    "out_dir=\"processed\"\n",
    "os.system(f\"mkdir -p {out_dir}\")"
   ]
  },
  {
   "cell_type": "code",
   "execution_count": 20,
   "metadata": {},
   "outputs": [],
   "source": [
    "data_dirs=[\n",
    "    \"data/model_20240602001418_part1.parquet\"\n",
    "]\n",
    "\n",
    "data_path=data_dirs[0]\n"
   ]
  },
  {
   "cell_type": "code",
   "execution_count": 22,
   "metadata": {},
   "outputs": [
    {
     "name": "stderr",
     "output_type": "stream",
     "text": [
      "100%|██████████| 100/100 [00:00<00:00, 749.97it/s]\n"
     ]
    }
   ],
   "source": [
    "record_count=0\n",
    "out_file_idx=0\n",
    "for data_path in data_dirs:\n",
    "    df=pd.read_parquet(data_path)\n",
    "\n",
    "    text_list=df[\"output_text\"].tolist()[:n_records_per_text]\n",
    "    text_list=clean_text_list(text_list)\n",
    "\n",
    "    for text in text_list:\n",
    "        record_count+=1\n",
    "        if record_count % max_records_per_jsol==0:\n",
    "            out_file_idx+=1\n",
    "            record_count=0\n",
    "        out_file=f\"{out_dir}/jsol_{out_file_idx}.txt\"\n",
    "        with open(out_file, \"a\") as f:\n",
    "            f.write(json.dumps({\"text\":text},ensure_ascii=False)+\"\\n\")"
   ]
  },
  {
   "cell_type": "code",
   "execution_count": 5,
   "metadata": {},
   "outputs": [],
   "source": []
  },
  {
   "cell_type": "code",
   "execution_count": 15,
   "metadata": {},
   "outputs": [
    {
     "name": "stderr",
     "output_type": "stream",
     "text": [
      " 26%|██▌       | 172505/659850 [04:32<12:49, 633.22it/s]\n"
     ]
    },
    {
     "ename": "KeyboardInterrupt",
     "evalue": "",
     "output_type": "error",
     "traceback": [
      "\u001b[0;31m---------------------------------------------------------------------------\u001b[0m",
      "\u001b[0;31mKeyboardInterrupt\u001b[0m                         Traceback (most recent call last)",
      "Cell \u001b[0;32mIn[15], line 1\u001b[0m\n\u001b[0;32m----> 1\u001b[0m text_list\u001b[38;5;241m=\u001b[39m\u001b[43mclean_text_list\u001b[49m\u001b[43m(\u001b[49m\u001b[43mtext_list\u001b[49m\u001b[43m)\u001b[49m\n",
      "File \u001b[0;32m/media/hatakeyama/python/2024/0615clean_synth_data/src/clean_utils.py:9\u001b[0m, in \u001b[0;36mclean_text_list\u001b[0;34m(text_list)\u001b[0m\n\u001b[1;32m      7\u001b[0m cleaned_text_list \u001b[38;5;241m=\u001b[39m []\n\u001b[1;32m      8\u001b[0m \u001b[38;5;28;01mfor\u001b[39;00m text \u001b[38;5;129;01min\u001b[39;00m tqdm(text_list):\n\u001b[0;32m----> 9\u001b[0m     cleaned_text \u001b[38;5;241m=\u001b[39m \u001b[43mis_repetitive_japanese\u001b[49m\u001b[43m(\u001b[49m\u001b[43mtext\u001b[49m\u001b[43m)\u001b[49m\n\u001b[1;32m     10\u001b[0m     \u001b[38;5;28;01mif\u001b[39;00m cleaned_text \u001b[38;5;241m==\u001b[39m \u001b[38;5;124m\"\u001b[39m\u001b[38;5;124m\"\u001b[39m:\n\u001b[1;32m     11\u001b[0m         \u001b[38;5;28;01mcontinue\u001b[39;00m\n",
      "File \u001b[0;32m/media/hatakeyama/python/2024/0615clean_synth_data/src/repeated_phrase.py:55\u001b[0m, in \u001b[0;36mis_repetitive_japanese\u001b[0;34m(text, thresholds)\u001b[0m\n\u001b[1;32m     53\u001b[0m ngram_dup_rates \u001b[38;5;241m=\u001b[39m {}\n\u001b[1;32m     54\u001b[0m \u001b[38;5;28;01mfor\u001b[39;00m n \u001b[38;5;129;01min\u001b[39;00m \u001b[38;5;28mrange\u001b[39m(\u001b[38;5;241m2\u001b[39m, \u001b[38;5;241m11\u001b[39m):\n\u001b[0;32m---> 55\u001b[0m     ngrams \u001b[38;5;241m=\u001b[39m \u001b[43mextract_ngrams\u001b[49m\u001b[43m(\u001b[49m\u001b[43mtext\u001b[49m\u001b[38;5;241;43m.\u001b[39;49m\u001b[43mreplace\u001b[49m\u001b[43m(\u001b[49m\u001b[38;5;124;43m'\u001b[39;49m\u001b[38;5;130;43;01m\\n\u001b[39;49;00m\u001b[38;5;124;43m'\u001b[39;49m\u001b[43m,\u001b[49m\u001b[43m \u001b[49m\u001b[38;5;124;43m'\u001b[39;49m\u001b[38;5;124;43m'\u001b[39;49m\u001b[43m)\u001b[49m\u001b[43m,\u001b[49m\u001b[43m \u001b[49m\u001b[43mn\u001b[49m\u001b[43m)\u001b[49m\n\u001b[1;32m     56\u001b[0m     \u001b[38;5;28;01mif\u001b[39;00m n \u001b[38;5;241m<\u001b[39m \u001b[38;5;241m5\u001b[39m:\n\u001b[1;32m     57\u001b[0m         \u001b[38;5;66;03m# 最頻出のn-gramの出現回数を計算\u001b[39;00m\n\u001b[1;32m     58\u001b[0m         ngram_dup_rates[n] \u001b[38;5;241m=\u001b[39m calc_max_freq_rate(ngrams)\n",
      "File \u001b[0;32m/media/hatakeyama/python/2024/0615clean_synth_data/src/repeated_phrase.py:91\u001b[0m, in \u001b[0;36mextract_ngrams\u001b[0;34m(text, n)\u001b[0m\n\u001b[1;32m     90\u001b[0m \u001b[38;5;28;01mdef\u001b[39;00m \u001b[38;5;21mextract_ngrams\u001b[39m(text, n):\n\u001b[0;32m---> 91\u001b[0m     \u001b[38;5;28;01mreturn\u001b[39;00m [text[i:i\u001b[38;5;241m+\u001b[39mn] \u001b[38;5;28;01mfor\u001b[39;00m i \u001b[38;5;129;01min\u001b[39;00m \u001b[38;5;28mrange\u001b[39m(\u001b[38;5;28mlen\u001b[39m(text)\u001b[38;5;241m-\u001b[39mn\u001b[38;5;241m+\u001b[39m\u001b[38;5;241m1\u001b[39m)]\n",
      "\u001b[0;31mKeyboardInterrupt\u001b[0m: "
     ]
    }
   ],
   "source": []
  },
  {
   "cell_type": "code",
   "execution_count": null,
   "metadata": {},
   "outputs": [],
   "source": []
  }
 ],
 "metadata": {
  "kernelspec": {
   "display_name": "textprocess",
   "language": "python",
   "name": "python3"
  },
  "language_info": {
   "codemirror_mode": {
    "name": "ipython",
    "version": 3
   },
   "file_extension": ".py",
   "mimetype": "text/x-python",
   "name": "python",
   "nbconvert_exporter": "python",
   "pygments_lexer": "ipython3",
   "version": "3.12.2"
  }
 },
 "nbformat": 4,
 "nbformat_minor": 2
}
